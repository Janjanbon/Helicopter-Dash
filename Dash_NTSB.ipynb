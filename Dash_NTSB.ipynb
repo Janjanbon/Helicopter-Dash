{
 "cells": [
  {
   "cell_type": "code",
   "execution_count": 2,
   "metadata": {},
   "outputs": [],
   "source": [
    "import plotly.express as px\n",
    "import dash\n",
    "import pandas as pd\n",
    "import dash_html_components as html\n",
    "import dash_core_components as dcc\n",
    "from dash.dependencies import Input, Output"
   ]
  },
  {
   "cell_type": "code",
   "execution_count": 4,
   "metadata": {},
   "outputs": [
    {
     "name": "stdout",
     "output_type": "stream",
     "text": [
      "      Event Date   Latitude   Longitude Injury Severity  \\\n",
      "2423  2015-09-24  31.432223  -85.571667       Non-Fatal   \n",
      "2424  2014-04-04  46.916389 -114.090555       Non-Fatal   \n",
      "2425  2014-01-21  28.532500  -80.901667       Non-Fatal   \n",
      "2426  2013-12-05  29.929723  -90.353889       Non-Fatal   \n",
      "2427  2012-05-10        NaN         NaN       Non-Fatal   \n",
      "2428  2017-06-04  42.594444  -87.926667       Non-Fatal   \n",
      "2429  2015-09-03  29.083889  -81.766945       Non-Fatal   \n",
      "2430  2015-08-19  40.791666  -73.103333       Non-Fatal   \n",
      "2431  2015-07-03  38.988889 -107.348333       Non-Fatal   \n",
      "2432  2015-07-01  45.000278 -100.280278       Non-Fatal   \n",
      "\n",
      "                              Make      Model   Purpose of Flight  \\\n",
      "2423                          BELL        206            Personal   \n",
      "2424                          BELL   206B III      Other Work Use   \n",
      "2425                     SCHWEIZER     269C 1       Instructional   \n",
      "2426                      SIKORSKY      S 76B                 NaN   \n",
      "2427   ROBINSON HELICOPTER COMPANY     R44 II               Ferry   \n",
      "2428   ROBINSON HELICOPTER COMPANY        R22            Personal   \n",
      "2429  MCDONNELL DOUGLAS HELICOPTER       369E  Aerial Application   \n",
      "2430           ROBINSON HELICOPTER   R22 BETA       Instructional   \n",
      "2431                    EUROCOPTER  EC 130 B4                 NaN   \n",
      "2432   ROBINSON HELICOPTER COMPANY     R44 II            Personal   \n",
      "\n",
      "     Broad Phase of Flight              geo_point  \n",
      "2423           MANEUVERING   31.432223,-85.571667  \n",
      "2424               TAKEOFF  46.916389,-114.090555  \n",
      "2425               LANDING     28.5325,-80.901667  \n",
      "2426               TAKEOFF   29.929723,-90.353889  \n",
      "2427           MANEUVERING                    NaN  \n",
      "2428               LANDING   42.594444,-87.926667  \n",
      "2429           MANEUVERING   29.083889,-81.766945  \n",
      "2430           MANEUVERING   40.791666,-73.103333  \n",
      "2431           MANEUVERING  38.988889,-107.348333  \n",
      "2432           MANEUVERING  45.000278,-100.280278  \n"
     ]
    }
   ],
   "source": [
    "df1 = pd.read_csv('https://public.opendatasoft.com/explore/dataset/ntsb-aviation-accident-dataset/download/?format=csv&refine.investigation_type=Accident&refine.country=United+States&refine.aircraft_category=Helicopter&timezone=America/New_York&lang=en&use_labels_for_header=true&csv_separator=%3B', delimiter=';')\n",
    "\n",
    "df = df1[['Event Date', 'Latitude', 'Longitude', 'Injury Severity', 'Make', 'Model','Purpose of Flight','Broad Phase of Flight', 'geo_point']]\n",
    "\n",
    "col_options = [dict(label=x, value=x) for x in df.columns]\n",
    "\n",
    "dimensions = [\"x\", \"y\", \"color\", \"facet_col\", \"facet_row\"]\n",
    "\n",
    "print(df.tail(10))\n",
    "fig = px.scatter(df)\n",
    "#fig.show()"
   ]
  },
  {
   "cell_type": "code",
   "execution_count": null,
   "metadata": {},
   "outputs": [],
   "source": [
    "app = dash.Dash(\n",
    "    __name__, external_stylesheets=[\"https://codepen.io/chriddyp/pen/bWLwgP.css\"]\n",
    ")\n",
    "\n",
    "app.layout = html.Div(\n",
    "    [\n",
    "        html.H1(\"Dash with NBCOT Helicopter Data\"),\n",
    "        html.Div(\n",
    "            [\n",
    "                html.P([d + \":\", dcc.Dropdown(id=d, options=col_options)])\n",
    "                for d in dimensions\n",
    "            ],\n",
    "            style={\"width\": \"25%\", \"float\": \"left\"},\n",
    "        ),\n",
    "        dcc.Graph(id=\"graph\", style={\"width\": \"75%\", \"display\": \"inline-block\"}),\n",
    "    ]\n",
    ")\n",
    "\n",
    "\n",
    "@app.callback(Output(\"graph\", \"figure\"), [Input(d, \"value\") for d in dimensions])\n",
    "def make_figure(x, y, color, facet_col, facet_row, marginal_y=\"violin\",\n",
    "           marginal_x=\"box\", trendline=\"ols\"):\n",
    "    return px.scatter(\n",
    "        df,\n",
    "        x=x,\n",
    "        y=y,\n",
    "        color=color,\n",
    "        facet_col=facet_col,\n",
    "        facet_row=facet_row,\n",
    "        height=700,\n",
    "    )\n",
    "\n",
    "\n",
    "app.run_server(debug=True)\n",
    "\n"
   ]
  },
  {
   "cell_type": "code",
   "execution_count": null,
   "metadata": {},
   "outputs": [],
   "source": []
  }
 ],
 "metadata": {
  "kernelspec": {
   "display_name": "Python 3",
   "language": "python",
   "name": "python3"
  },
  "language_info": {
   "codemirror_mode": {
    "name": "ipython",
    "version": 3
   },
   "file_extension": ".py",
   "mimetype": "text/x-python",
   "name": "python",
   "nbconvert_exporter": "python",
   "pygments_lexer": "ipython3",
   "version": "3.7.3"
  }
 },
 "nbformat": 4,
 "nbformat_minor": 4
}
